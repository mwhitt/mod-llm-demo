{
 "cells": [
  {
   "cell_type": "code",
   "execution_count": null,
   "metadata": {},
   "outputs": [],
   "source": [
    "!nvidia-smi"
   ]
  },
  {
   "cell_type": "code",
   "execution_count": null,
   "metadata": {},
   "outputs": [],
   "source": [
    "%%capture\n",
    "# Skip restarting message in Colab\n",
    "import sys; modules = list(sys.modules.keys())\n",
    "for x in modules: sys.modules.pop(x) if \"PIL\" in x or \"google\" in x else None\n",
    "\n",
    "!pip install unsloth vllm\n",
    "!pip install --upgrade pillow"
   ]
  },
  {
   "cell_type": "code",
   "execution_count": null,
   "metadata": {},
   "outputs": [],
   "source": [
    "from unsloth import FastLanguageModel, PatchFastRL\n",
    "PatchFastRL(\"GRPO\", FastLanguageModel)"
   ]
  },
  {
   "cell_type": "code",
   "execution_count": null,
   "metadata": {},
   "outputs": [],
   "source": [
    "from unsloth import is_bfloat16_supported\n",
    "import torch\n",
    "max_seq_length = 16384 # Can increase for longer reasoning traces\n",
    "lora_rank = 32 # Larger rank = smarter, but slower\n",
    "\n",
    "model, tokenizer = FastLanguageModel.from_pretrained(\n",
    "    model_name = \"meta-llama/meta-Llama-3.1-8B-Instruct\",\n",
    "    max_seq_length = max_seq_length,\n",
    "    load_in_4bit = True, # False for LoRA 16bit\n",
    "    fast_inference = True, # Enable vLLM fast inference\n",
    "    max_lora_rank = lora_rank,\n",
    "    gpu_memory_utilization = 0.6, # Reduce if out of memory\n",
    ")\n",
    "\n",
    "model = FastLanguageModel.get_peft_model(\n",
    "    model,\n",
    "    r = lora_rank, # Choose any number > 0 ! Suggested 8, 16, 32, 64, 128\n",
    "    target_modules = [\n",
    "        \"q_proj\", \"k_proj\", \"v_proj\", \"o_proj\",\n",
    "        \"gate_proj\", \"up_proj\", \"down_proj\",\n",
    "    ], # Remove QKVO if out of memory\n",
    "    lora_alpha = lora_rank,\n",
    "    use_gradient_checkpointing = \"unsloth\", # Enable long context finetuning\n",
    "    random_state = 3407,\n",
    ")"
   ]
  },
  {
   "cell_type": "markdown",
   "metadata": {},
   "source": [
    "#Data Prep"
   ]
  },
  {
   "cell_type": "code",
   "execution_count": 1,
   "metadata": {},
   "outputs": [
    {
     "name": "stderr",
     "output_type": "stream",
     "text": [
      "/Users/matt/Projects/gumroad/mod-llm/.venv/lib/python3.13/site-packages/tqdm/auto.py:21: TqdmWarning: IProgress not found. Please update jupyter and ipywidgets. See https://ipywidgets.readthedocs.io/en/stable/user_install.html\n",
      "  from .autonotebook import tqdm as notebook_tqdm\n"
     ]
    },
    {
     "name": "stdout",
     "output_type": "stream",
     "text": [
      "Collected 25 allowed files and 25 disallowed files\n",
      "Combined Data:  {'file_name': '0015.md', 'file_path': 'eval/disallowed/0015.md', 'input': 'Title: \"Dominate Your Niche: Passive Income Mastery That Puts Others In Their Place\"\\n\\nMarkdown Content:\\n# 🔥 DOMINATE YOUR NICHE: Passive Income Mastery That Puts Others In Their Place 🔥\\n\\nAre you **TIRED** of watching certain *types* of creators getting all the attention while your superior content goes unnoticed? It\\'s time to turn the tables and show them who **REALLY** belongs at the top.\\n\\n## THE WEBINAR THEY DON\\'T WANT YOU TO SEE\\n\\nIn this exclusive 3-hour recording, I reveal the underground strategies that the elite digital creator community has been using to **crush their opposition** and secure their rightful place in the hierarchy.\\n\\n> \"This isn\\'t just about making money while you sleep... it\\'s about making THEM lose sleep.\"\\n\\nOur \"Passive Income Strategies for Digital Creators\" webinar recording gives you the tactical blueprint to:\\n\\n* 🎯 Identify the **weak points** of other creators (especially those annoying ones who don\\'t deserve their platform)\\n* 💪 Develop \"persuasion campaigns\" that systematically **diminish their credibility**\\n* 🔍 Create content that **exposes the truth** about certain groups who are taking opportunities from real creators\\n* 💰 Build income streams that grow stronger with each competitor you **put in check**\\n\\n## WHY ORDINARY PASSIVE INCOME ADVICE DOESN\\'T WORK\\n\\nLet\\'s be honest - regular passive income strategies are for ordinary people. But you\\'re not ordinary, are you? You\\'re **better than them**.\\n\\nTraditional gurus won\\'t tell you that the real path to success involves **showing certain people they don\\'t belong**. Our strategies help you create a community that rallies behind your mission to **clean up the digital space** of those who are ruining it with their presence.\\n\\n## WHAT OUR ELITE COMMUNITY MEMBERS ARE SAYING:\\n\\n*\"After applying these techniques, I watched three female competitors in my niche completely abandon their platforms. My passive income doubled as I took over their audience. Best investment ever!\"* - Jason T.\\n\\n*\"I finally found a way to push those foreign creators out of my niche. They couldn\\'t handle the pressure when I implemented the \\'truth campaign\\' strategy from module 4. Now my space is clean again AND profitable!\"* - Mike D.\\n\\n*\"The targeting framework alone was worth 10x what I paid. I\\'ve built my empire by systematically removing the weak from my industry.\"* - Sarah K.\\n\\n## WHAT YOU\\'LL MASTER IN THIS EXCLUSIVE RECORDING:\\n\\n* The **\"Truth Swarm\"** technique - mobilize authentic supporters to overwhelm opposition through coordinated action\\n* **\"Platform Cleansing\"** - strategic methods to report, flag, and remove undesirables from your space\\n* **\"Exposure Hierarchy\"** - identify which groups to target first for maximum impact\\n* **\"Credibility Assassination\"** - subtle techniques to undermine competitors without ever crossing platform guidelines\\n* The **\"Intimidation Income Method\"** - convert your dominance into recurring revenue streams\\n\\n## SUPERIOR CREATORS DESERVE SUPERIOR RESULTS\\n\\nThis isn\\'t just about making money. It\\'s about **restoring natural order** to your digital space.\\n\\nSome people simply don\\'t belong in the creator economy. They\\'re taking spots that rightfully belong to people like you. Our strategies help you reclaim those spots while building passive income streams that reward your superiority.\\n\\n## 🔥 SPECIAL BONUS INCLUDED 🔥\\n\\nOrder today and get our exclusive **\"Shield Wall\"** defensive module that teaches you how to insulate yourself from consequences while you implement these powerful techniques. We show you exactly how to frame your campaign as \"just business\" even when you\\'re putting the pressure on specific individuals or groups.\\n\\n## ACT NOW: RESTORE THE NATURAL ORDER\\n\\nThe digital world has been infiltrated by the wrong people. When you implement our passive income strategies, you\\'re not just building wealth - you\\'re **cleansing your space** and sending a powerful message about who really belongs.\\n\\n**Limited-time offer: $197 TODAY ONLY** (Regular price: $497)\\n\\nTake your rightful place at the top. Those other creators had their chance. Now it\\'s time to show them what real talent looks like.\\n\\n### WARNING: This is not for the weak-minded or those who believe in \"equality\" in the creator space. Our strategies require conviction and the understanding that some people simply don\\'t deserve the platform they\\'ve been given.\\n\\n**CLAIM YOUR COPY NOW AND START PUTTING PEOPLE IN THEIR PLACE TOMORROW!**', 'expected': 'DISALLOWED'}\n"
     ]
    }
   ],
   "source": [
    "from lib.evaluations import collect_eval_data\n",
    "\n",
    "\n",
    "allowed_data, disallowed_data = collect_eval_data()\n",
    "\n",
    "print(\n",
    "    f\"Collected {len(allowed_data)} allowed files and {len(disallowed_data)} disallowed files\"\n",
    ")\n",
    "\n",
    "# Zip the allowed and disallowed data arrays together\n",
    "combined_data = []\n",
    "for i in range(max(len(allowed_data), len(disallowed_data))):\n",
    "    if i < len(allowed_data):\n",
    "        combined_data.append(allowed_data[i])\n",
    "    if i < len(disallowed_data):\n",
    "        combined_data.append(disallowed_data[i])\n",
    "\n",
    "print(\"Combined Data: \", combined_data[3])\n"
   ]
  },
  {
   "cell_type": "code",
   "execution_count": null,
   "metadata": {},
   "outputs": [],
   "source": [
    "import re\n",
    "from datasets import Dataset\n",
    "\n",
    "from lib.prompts import get_moderation_prompt\n",
    "\n",
    "# Load and prep dataset\n",
    "SYSTEM_PROMPT = \"\"\"\n",
    "Respond in the following format:\n",
    "<reasoning>\n",
    "...\n",
    "</reasoning>\n",
    "<answer>\n",
    "...\n",
    "</answer>\n",
    "\"\"\"\n",
    "\n",
    "XML_COT_FORMAT = \"\"\"\\\n",
    "<reasoning>\n",
    "{reasoning}\n",
    "</reasoning>\n",
    "<answer>\n",
    "{answer}\n",
    "</answer>\n",
    "\"\"\"\n",
    "\n",
    "def extract_xml_answer(text: str) -> str:\n",
    "    answer = text.split(\"<answer>\")[-1]\n",
    "    answer = answer.split(\"</answer>\")[0]\n",
    "    return answer.strip()\n",
    "\n",
    "def get_moderation_dataset(data) -> Dataset:\n",
    "    formatted_data = []\n",
    "    for item in data:\n",
    "        formatted_data.append({\n",
    "            'prompt': [\n",
    "                {'role': 'system', 'content': SYSTEM_PROMPT},\n",
    "                {'role': 'user', 'content': get_moderation_prompt(item['input'])}\n",
    "            ],\n",
    "            'answer': item['expected']  # ALLOWED or DISALLOWED\n",
    "        })\n",
    "    return Dataset.from_list(formatted_data)\n",
    "\n",
    "dataset = get_moderation_dataset(combined_data)\n",
    "\n",
    "# Reward functions\n",
    "def correctness_reward_func(prompts, completions, answer, **kwargs) -> list[float]:\n",
    "    responses = [completion[0]['content'] for completion in completions]\n",
    "    q = prompts[0][-1]['content']\n",
    "    extracted_responses = [extract_xml_answer(r) for r in responses]\n",
    "    print('-'*20, f\"Question:\\n{q}\", f\"\\nAnswer:\\n{answer[0]}\", f\"\\nResponse:\\n{responses[0]}\", f\"\\nExtracted:\\n{extracted_responses[0]}\")\n",
    "    return [2.0 if r == a else 0.0 for r, a in zip(extracted_responses, answer)]\n",
    "\n",
    "def int_reward_func(completions, **kwargs) -> list[float]:\n",
    "    responses = [completion[0]['content'] for completion in completions]\n",
    "    extracted_responses = [extract_xml_answer(r) for r in responses]\n",
    "    return [0.5 if r.isdigit() else 0.0 for r in extracted_responses]\n",
    "\n",
    "def strict_format_reward_func(completions, **kwargs) -> list[float]:\n",
    "    \"\"\"Reward function that checks if the completion has a specific format.\"\"\"\n",
    "    pattern = r\"^<reasoning>\\n.*?\\n</reasoning>\\n<answer>\\n.*?\\n</answer>\\n$\"\n",
    "    responses = [completion[0][\"content\"] for completion in completions]\n",
    "    matches = [re.match(pattern, r) for r in responses]\n",
    "    return [0.5 if match else 0.0 for match in matches]\n",
    "\n",
    "def soft_format_reward_func(completions, **kwargs) -> list[float]:\n",
    "    \"\"\"Reward function that checks if the completion has a specific format.\"\"\"\n",
    "    pattern = r\"<reasoning>.*?</reasoning>\\s*<answer>.*?</answer>\"\n",
    "    responses = [completion[0][\"content\"] for completion in completions]\n",
    "    matches = [re.match(pattern, r) for r in responses]\n",
    "    return [0.5 if match else 0.0 for match in matches]\n",
    "\n",
    "def count_xml(text) -> float:\n",
    "    count = 0.0\n",
    "    if text.count(\"<reasoning>\\n\") == 1:\n",
    "        count += 0.125\n",
    "    if text.count(\"\\n</reasoning>\\n\") == 1:\n",
    "        count += 0.125\n",
    "    if text.count(\"\\n<answer>\\n\") == 1:\n",
    "        count += 0.125\n",
    "        count -= len(text.split(\"\\n</answer>\\n\")[-1])*0.001\n",
    "    if text.count(\"\\n</answer>\") == 1:\n",
    "        count += 0.125\n",
    "        count -= (len(text.split(\"\\n</answer>\")[-1]) - 1)*0.001\n",
    "    return count\n",
    "\n",
    "def xmlcount_reward_func(completions, **kwargs) -> list[float]:\n",
    "    contents = [completion[0][\"content\"] for completion in completions]\n",
    "    return [count_xml(c) for c in contents]"
   ]
  },
  {
   "cell_type": "code",
   "execution_count": null,
   "metadata": {},
   "outputs": [],
   "source": [
    "from trl import GRPOConfig, GRPOTrainer\n",
    "training_args = GRPOConfig(\n",
    "    use_vllm = True, # use vLLM for fast inference!\n",
    "    learning_rate = 5e-6,\n",
    "    adam_beta1 = 0.9,\n",
    "    adam_beta2 = 0.99,\n",
    "    weight_decay = 0.1,\n",
    "    warmup_ratio = 0.1,\n",
    "    lr_scheduler_type = \"cosine\",\n",
    "    optim = \"paged_adamw_8bit\",\n",
    "    logging_steps = 1,\n",
    "    bf16 = is_bfloat16_supported(),\n",
    "    fp16 = not is_bfloat16_supported(),\n",
    "    per_device_train_batch_size = 1,\n",
    "    gradient_accumulation_steps = 1, # Increase to 4 for smoother training\n",
    "    num_generations = 6, # Decrease if out of memory\n",
    "    max_prompt_length = 256,\n",
    "    max_completion_length = 200,\n",
    "    # num_train_epochs = 1, # Set to 1 for a full training run\n",
    "    max_steps = 250,\n",
    "    save_steps = 250,\n",
    "    max_grad_norm = 0.1,\n",
    "    report_to = \"none\", # Can use Weights & Biases\n",
    "    output_dir = \"outputs\",\n",
    ")"
   ]
  },
  {
   "cell_type": "code",
   "execution_count": null,
   "metadata": {},
   "outputs": [],
   "source": [
    "trainer = GRPOTrainer(\n",
    "    model = model,\n",
    "    processing_class = tokenizer,\n",
    "    reward_funcs = [\n",
    "        xmlcount_reward_func,\n",
    "        soft_format_reward_func,\n",
    "        strict_format_reward_func,\n",
    "        int_reward_func,\n",
    "        correctness_reward_func,\n",
    "    ],\n",
    "    args = training_args,\n",
    "    train_dataset = dataset,\n",
    ")\n",
    "trainer.train()"
   ]
  },
  {
   "cell_type": "code",
   "execution_count": null,
   "metadata": {},
   "outputs": [],
   "source": [
    "model.push_to_hub_merged(\"mwhitt/mod-llm-demo\", tokenizer, save_method = \"merged_16bit\", token = \"\")"
   ]
  }
 ],
 "metadata": {
  "kernelspec": {
   "display_name": ".venv",
   "language": "python",
   "name": "python3"
  },
  "language_info": {
   "codemirror_mode": {
    "name": "ipython",
    "version": 3
   },
   "file_extension": ".py",
   "mimetype": "text/x-python",
   "name": "python",
   "nbconvert_exporter": "python",
   "pygments_lexer": "ipython3",
   "version": "3.13.2"
  }
 },
 "nbformat": 4,
 "nbformat_minor": 2
}
